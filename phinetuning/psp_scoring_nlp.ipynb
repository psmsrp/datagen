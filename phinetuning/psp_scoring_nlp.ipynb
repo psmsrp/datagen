{
 "cells": [
  {
   "cell_type": "code",
   "execution_count": 12,
   "metadata": {},
   "outputs": [],
   "source": [
    "# !pip install evaluate\n",
    "import os\n",
    "os.environ[\"WANDB_DISABLED\"] = \"true\""
   ]
  },
  {
   "cell_type": "code",
   "execution_count": 13,
   "metadata": {},
   "outputs": [],
   "source": [
    "import pandas as pd\n",
    "from evaluate import load\n",
    "\n",
    "\n",
    "\n",
    "file_path = './results/results_different_summaries_new.csv'  # Replace with the actual file path\n",
    "# f2='./scores/different_summaries_new.csv'\n",
    "# file_path = './scores/final_different_summaries.csv'  # Replace with the actual file path\n",
    "df = pd.read_csv(file_path)\n",
    "\n",
    "# count_label_0 = (df[\"Label GT_Summary\"] == 0).sum()\n",
    "\n",
    "# print(count_label_0)\n",
    "\n",
    "# result_df = pd.read_csv(f2)\n",
    "\n",
    "# Ensure the columns exist\n",
    "\n",
    "# Extract text and references\n",
    "references = df['GT_Summary'].astype(str).tolist()\n",
    "\n",
    "p1= df['Phi-4 Base'].astype(str).tolist()\n",
    "p2= df['Phi-4'].astype(str).tolist()\n",
    "p3= df['Phi-4 (Model 6)'].astype(str).tolist()\n",
    "\n",
    "q1 = df['Qwen2.5 (Base)'].astype(str).tolist()\n",
    "q2 = df['Qwen2.5'].astype(str).tolist()\n",
    "q3 = df['Qwen2.5 (Model 6)'].astype(str).tolist()"
   ]
  },
  {
   "cell_type": "code",
   "execution_count": 14,
   "metadata": {},
   "outputs": [
    {
     "name": "stdout",
     "output_type": "stream",
     "text": [
      "\n",
      "Average ROUGE Scores:\n",
      "Phi-4 Base: {'rouge1': np.float64(0.4316859006808136), 'rouge2': np.float64(0.16244943630753123), 'rougeL': np.float64(0.28825586887028865), 'rougeLsum': np.float64(0.2959836485473238)}\n",
      "Phi-4: {'rouge1': np.float64(0.511164700783335), 'rouge2': np.float64(0.22474040118620175), 'rougeL': np.float64(0.37293169663357295), 'rougeLsum': np.float64(0.3725922783755151)}\n",
      "Phi-4 (Model 6): {'rouge1': np.float64(0.46934415844697663), 'rouge2': np.float64(0.1951848896503675), 'rougeL': np.float64(0.3387037457809896), 'rougeLsum': np.float64(0.338781501953492)}\n",
      "----------------------\n",
      "Qwen2.5 (Base): {'rouge1': np.float64(0.4192317686135231), 'rouge2': np.float64(0.151255933830505), 'rougeL': np.float64(0.2738022921000566), 'rougeLsum': np.float64(0.30388213555609445)}\n",
      "Qwen2.5: {'rouge1': np.float64(0.43654914779628395), 'rouge2': np.float64(0.16579086115064717), 'rougeL': np.float64(0.3148822368970049), 'rougeLsum': np.float64(0.31512914146065085)}\n",
      "Qwen2.5 (Model 6): {'rouge1': np.float64(0.4604766979075311), 'rouge2': np.float64(0.1783918062372262), 'rougeL': np.float64(0.3259569842885762), 'rougeLsum': np.float64(0.3257263345628917)}\n"
     ]
    }
   ],
   "source": [
    "# Load the ROUGE metric from Hugging Face\n",
    "rouge = load(\"rouge\")\n",
    "\n",
    "# Compute ROUGE scores\n",
    "results_p1 = rouge.compute(predictions=p1, references=references)\n",
    "results_p2 = rouge.compute(predictions=p2, references=references)\n",
    "results_p3 = rouge.compute(predictions=p3, references=references)\n",
    "\n",
    "results_q1 = rouge.compute(predictions=q1, references=references)\n",
    "results_q2 = rouge.compute(predictions=q2, references=references)\n",
    "results_q3 = rouge.compute(predictions=q3, references=references)\n",
    "\n",
    "# Print average ROUGE scores\n",
    "print(\"\\nAverage ROUGE Scores:\")\n",
    "print(\"Phi-4 Base:\", results_p1)\n",
    "print(\"Phi-4:\", results_p2)\n",
    "print(\"Phi-4 (Model 6):\", results_p3)\n",
    "print(\"----------------------\")\n",
    "print(\"Qwen2.5 (Base):\", results_q1)\n",
    "print(\"Qwen2.5:\", results_q2)\n",
    "print(\"Qwen2.5 (Model 6):\", results_q3)"
   ]
  },
  {
   "cell_type": "code",
   "execution_count": 22,
   "metadata": {},
   "outputs": [
    {
     "name": "stderr",
     "output_type": "stream",
     "text": [
      "huggingface/tokenizers: The current process just got forked, after parallelism has already been used. Disabling parallelism to avoid deadlocks...\n",
      "To disable this warning, you can either:\n",
      "\t- Avoid using `tokenizers` before the fork if possible\n",
      "\t- Explicitly set the environment variable TOKENIZERS_PARALLELISM=(true | false)\n",
      "Using the `WANDB_DISABLED` environment variable is deprecated and will be removed in v5. Use the --report_to flag to control the integrations used for logging result (for instance --report_to none).\n"
     ]
    },
    {
     "data": {
      "application/vnd.jupyter.widget-view+json": {
       "model_id": "2c8e5c19a4fa41c7b926e270f9f28f46",
       "version_major": 2,
       "version_minor": 0
      },
      "text/plain": [
       "Map:   0%|          | 0/251 [00:00<?, ? examples/s]"
      ]
     },
     "metadata": {},
     "output_type": "display_data"
    },
    {
     "name": "stderr",
     "output_type": "stream",
     "text": [
      "/home/t-ppurkayast/.cache/huggingface/modules/evaluate_modules/metrics/evaluate-metric--frugalscore/3e67da829730648355c5bb58bc8b93a6c3a9be29cf03f72f71a8fc1bdf7614a6/frugalscore.py:115: FutureWarning: `tokenizer` is deprecated and will be removed in version 5.0.0 for `Trainer.__init__`. Use `processing_class` instead.\n",
      "  trainer = Trainer(self.model, training_args, tokenizer=self.tokenizer)\n"
     ]
    },
    {
     "data": {
      "text/html": [],
      "text/plain": [
       "<IPython.core.display.HTML object>"
      ]
     },
     "metadata": {},
     "output_type": "display_data"
    },
    {
     "name": "stderr",
     "output_type": "stream",
     "text": [
      "huggingface/tokenizers: The current process just got forked, after parallelism has already been used. Disabling parallelism to avoid deadlocks...\n",
      "To disable this warning, you can either:\n",
      "\t- Avoid using `tokenizers` before the fork if possible\n",
      "\t- Explicitly set the environment variable TOKENIZERS_PARALLELISM=(true | false)\n",
      "Using the `WANDB_DISABLED` environment variable is deprecated and will be removed in v5. Use the --report_to flag to control the integrations used for logging result (for instance --report_to none).\n"
     ]
    },
    {
     "data": {
      "application/vnd.jupyter.widget-view+json": {
       "model_id": "e4b6acfd8c0d42258e0a1d1b160f5a93",
       "version_major": 2,
       "version_minor": 0
      },
      "text/plain": [
       "Map:   0%|          | 0/251 [00:00<?, ? examples/s]"
      ]
     },
     "metadata": {},
     "output_type": "display_data"
    },
    {
     "name": "stderr",
     "output_type": "stream",
     "text": [
      "/home/t-ppurkayast/.cache/huggingface/modules/evaluate_modules/metrics/evaluate-metric--frugalscore/3e67da829730648355c5bb58bc8b93a6c3a9be29cf03f72f71a8fc1bdf7614a6/frugalscore.py:115: FutureWarning: `tokenizer` is deprecated and will be removed in version 5.0.0 for `Trainer.__init__`. Use `processing_class` instead.\n",
      "  trainer = Trainer(self.model, training_args, tokenizer=self.tokenizer)\n"
     ]
    },
    {
     "data": {
      "text/html": [],
      "text/plain": [
       "<IPython.core.display.HTML object>"
      ]
     },
     "metadata": {},
     "output_type": "display_data"
    },
    {
     "name": "stderr",
     "output_type": "stream",
     "text": [
      "huggingface/tokenizers: The current process just got forked, after parallelism has already been used. Disabling parallelism to avoid deadlocks...\n",
      "To disable this warning, you can either:\n",
      "\t- Avoid using `tokenizers` before the fork if possible\n",
      "\t- Explicitly set the environment variable TOKENIZERS_PARALLELISM=(true | false)\n",
      "Using the `WANDB_DISABLED` environment variable is deprecated and will be removed in v5. Use the --report_to flag to control the integrations used for logging result (for instance --report_to none).\n"
     ]
    },
    {
     "data": {
      "application/vnd.jupyter.widget-view+json": {
       "model_id": "7b2149bb90e7493caa26aabf39e631d7",
       "version_major": 2,
       "version_minor": 0
      },
      "text/plain": [
       "Map:   0%|          | 0/251 [00:00<?, ? examples/s]"
      ]
     },
     "metadata": {},
     "output_type": "display_data"
    },
    {
     "name": "stderr",
     "output_type": "stream",
     "text": [
      "/home/t-ppurkayast/.cache/huggingface/modules/evaluate_modules/metrics/evaluate-metric--frugalscore/3e67da829730648355c5bb58bc8b93a6c3a9be29cf03f72f71a8fc1bdf7614a6/frugalscore.py:115: FutureWarning: `tokenizer` is deprecated and will be removed in version 5.0.0 for `Trainer.__init__`. Use `processing_class` instead.\n",
      "  trainer = Trainer(self.model, training_args, tokenizer=self.tokenizer)\n"
     ]
    },
    {
     "data": {
      "text/html": [],
      "text/plain": [
       "<IPython.core.display.HTML object>"
      ]
     },
     "metadata": {},
     "output_type": "display_data"
    },
    {
     "name": "stderr",
     "output_type": "stream",
     "text": [
      "huggingface/tokenizers: The current process just got forked, after parallelism has already been used. Disabling parallelism to avoid deadlocks...\n",
      "To disable this warning, you can either:\n",
      "\t- Avoid using `tokenizers` before the fork if possible\n",
      "\t- Explicitly set the environment variable TOKENIZERS_PARALLELISM=(true | false)\n",
      "Using the `WANDB_DISABLED` environment variable is deprecated and will be removed in v5. Use the --report_to flag to control the integrations used for logging result (for instance --report_to none).\n"
     ]
    },
    {
     "data": {
      "application/vnd.jupyter.widget-view+json": {
       "model_id": "88355f7db0ee46469c9b0664eba9a654",
       "version_major": 2,
       "version_minor": 0
      },
      "text/plain": [
       "Map:   0%|          | 0/251 [00:00<?, ? examples/s]"
      ]
     },
     "metadata": {},
     "output_type": "display_data"
    },
    {
     "name": "stderr",
     "output_type": "stream",
     "text": [
      "/home/t-ppurkayast/.cache/huggingface/modules/evaluate_modules/metrics/evaluate-metric--frugalscore/3e67da829730648355c5bb58bc8b93a6c3a9be29cf03f72f71a8fc1bdf7614a6/frugalscore.py:115: FutureWarning: `tokenizer` is deprecated and will be removed in version 5.0.0 for `Trainer.__init__`. Use `processing_class` instead.\n",
      "  trainer = Trainer(self.model, training_args, tokenizer=self.tokenizer)\n"
     ]
    },
    {
     "data": {
      "text/html": [],
      "text/plain": [
       "<IPython.core.display.HTML object>"
      ]
     },
     "metadata": {},
     "output_type": "display_data"
    },
    {
     "name": "stderr",
     "output_type": "stream",
     "text": [
      "huggingface/tokenizers: The current process just got forked, after parallelism has already been used. Disabling parallelism to avoid deadlocks...\n",
      "To disable this warning, you can either:\n",
      "\t- Avoid using `tokenizers` before the fork if possible\n",
      "\t- Explicitly set the environment variable TOKENIZERS_PARALLELISM=(true | false)\n",
      "Using the `WANDB_DISABLED` environment variable is deprecated and will be removed in v5. Use the --report_to flag to control the integrations used for logging result (for instance --report_to none).\n"
     ]
    },
    {
     "data": {
      "application/vnd.jupyter.widget-view+json": {
       "model_id": "9b60239d91184418890f1aa74f8e431b",
       "version_major": 2,
       "version_minor": 0
      },
      "text/plain": [
       "Map:   0%|          | 0/251 [00:00<?, ? examples/s]"
      ]
     },
     "metadata": {},
     "output_type": "display_data"
    },
    {
     "name": "stderr",
     "output_type": "stream",
     "text": [
      "/home/t-ppurkayast/.cache/huggingface/modules/evaluate_modules/metrics/evaluate-metric--frugalscore/3e67da829730648355c5bb58bc8b93a6c3a9be29cf03f72f71a8fc1bdf7614a6/frugalscore.py:115: FutureWarning: `tokenizer` is deprecated and will be removed in version 5.0.0 for `Trainer.__init__`. Use `processing_class` instead.\n",
      "  trainer = Trainer(self.model, training_args, tokenizer=self.tokenizer)\n"
     ]
    },
    {
     "data": {
      "text/html": [],
      "text/plain": [
       "<IPython.core.display.HTML object>"
      ]
     },
     "metadata": {},
     "output_type": "display_data"
    },
    {
     "name": "stderr",
     "output_type": "stream",
     "text": [
      "huggingface/tokenizers: The current process just got forked, after parallelism has already been used. Disabling parallelism to avoid deadlocks...\n",
      "To disable this warning, you can either:\n",
      "\t- Avoid using `tokenizers` before the fork if possible\n",
      "\t- Explicitly set the environment variable TOKENIZERS_PARALLELISM=(true | false)\n",
      "Using the `WANDB_DISABLED` environment variable is deprecated and will be removed in v5. Use the --report_to flag to control the integrations used for logging result (for instance --report_to none).\n"
     ]
    },
    {
     "data": {
      "application/vnd.jupyter.widget-view+json": {
       "model_id": "ad9cddc1f6324411a487fe310326a63f",
       "version_major": 2,
       "version_minor": 0
      },
      "text/plain": [
       "Map:   0%|          | 0/251 [00:00<?, ? examples/s]"
      ]
     },
     "metadata": {},
     "output_type": "display_data"
    },
    {
     "name": "stderr",
     "output_type": "stream",
     "text": [
      "/home/t-ppurkayast/.cache/huggingface/modules/evaluate_modules/metrics/evaluate-metric--frugalscore/3e67da829730648355c5bb58bc8b93a6c3a9be29cf03f72f71a8fc1bdf7614a6/frugalscore.py:115: FutureWarning: `tokenizer` is deprecated and will be removed in version 5.0.0 for `Trainer.__init__`. Use `processing_class` instead.\n",
      "  trainer = Trainer(self.model, training_args, tokenizer=self.tokenizer)\n"
     ]
    },
    {
     "data": {
      "text/html": [],
      "text/plain": [
       "<IPython.core.display.HTML object>"
      ]
     },
     "metadata": {},
     "output_type": "display_data"
    },
    {
     "name": "stdout",
     "output_type": "stream",
     "text": [
      "\n",
      "Average ROUGE Scores:\n",
      "Phi-4 Base: 0.6425392\n",
      "Phi-4: 0.71924216\n",
      "Phi-4 (Model 6): 0.7001039\n",
      "----------------------\n",
      "Qwen2.5 (Base): 0.6257762\n",
      "Qwen2.5: 0.6830277\n",
      "Qwen2.5 (Model 6): 0.69711\n"
     ]
    }
   ],
   "source": [
    "# Load the ROUGE metric from Hugging Face\n",
    "rouge = load(\"frugalscore\", \"moussaKam/frugalscore_medium_bert-base_bert-score\")\n",
    "\n",
    "# Compute ROUGE scores\n",
    "results_p1 = rouge.compute(predictions=p1, references=references)\n",
    "results_p2 = rouge.compute(predictions=p2, references=references)\n",
    "results_p3 = rouge.compute(predictions=p3, references=references)\n",
    "\n",
    "results_q1 = rouge.compute(predictions=q1, references=references)\n",
    "results_q2 = rouge.compute(predictions=q2, references=references)\n",
    "results_q3 = rouge.compute(predictions=q3, references=references)\n",
    "\n",
    "# Compute and print average ROUGE scores\n",
    "average_rouge_p1 =sum(results_p1['scores']) / len(results_p1['scores'])\n",
    "average_rouge_p2 = sum(results_p2['scores']) / len(results_p2['scores'])\n",
    "average_rouge_p3 = sum(results_p3['scores']) / len(results_p3['scores'])\n",
    "\n",
    "average_rouge_q1 = sum(results_q1['scores']) / len(results_q1['scores'])\n",
    "average_rouge_q2 = sum(results_q2['scores']) / len(results_q2['scores'])\n",
    "average_rouge_q3 = sum(results_q3['scores']) / len(results_q3['scores'])\n",
    "\n",
    "\n",
    "# Print average ROUGE scores\n",
    "print(\"\\nAverage ROUGE Scores:\")\n",
    "print(\"Phi-4 Base:\", average_rouge_p1)\n",
    "print(\"Phi-4:\", average_rouge_p2)\n",
    "print(\"Phi-4 (Model 6):\", average_rouge_p3)\n",
    "print(\"----------------------\")\n",
    "print(\"Qwen2.5 (Base):\", average_rouge_q1)\n",
    "print(\"Qwen2.5:\", average_rouge_q2)\n",
    "print(\"Qwen2.5 (Model 6):\", average_rouge_q3)\n"
   ]
  },
  {
   "cell_type": "code",
   "execution_count": 23,
   "metadata": {},
   "outputs": [
    {
     "name": "stderr",
     "output_type": "stream",
     "text": [
      "huggingface/tokenizers: The current process just got forked, after parallelism has already been used. Disabling parallelism to avoid deadlocks...\n",
      "To disable this warning, you can either:\n",
      "\t- Avoid using `tokenizers` before the fork if possible\n",
      "\t- Explicitly set the environment variable TOKENIZERS_PARALLELISM=(true | false)\n",
      "Using the `WANDB_DISABLED` environment variable is deprecated and will be removed in v5. Use the --report_to flag to control the integrations used for logging result (for instance --report_to none).\n"
     ]
    },
    {
     "data": {
      "application/vnd.jupyter.widget-view+json": {
       "model_id": "bfd1a468bed146b589a1b1d4e64a3998",
       "version_major": 2,
       "version_minor": 0
      },
      "text/plain": [
       "Map:   0%|          | 0/251 [00:00<?, ? examples/s]"
      ]
     },
     "metadata": {},
     "output_type": "display_data"
    },
    {
     "name": "stderr",
     "output_type": "stream",
     "text": [
      "/home/t-ppurkayast/.cache/huggingface/modules/evaluate_modules/metrics/evaluate-metric--frugalscore/3e67da829730648355c5bb58bc8b93a6c3a9be29cf03f72f71a8fc1bdf7614a6/frugalscore.py:115: FutureWarning: `tokenizer` is deprecated and will be removed in version 5.0.0 for `Trainer.__init__`. Use `processing_class` instead.\n",
      "  trainer = Trainer(self.model, training_args, tokenizer=self.tokenizer)\n"
     ]
    },
    {
     "data": {
      "text/html": [],
      "text/plain": [
       "<IPython.core.display.HTML object>"
      ]
     },
     "metadata": {},
     "output_type": "display_data"
    },
    {
     "name": "stderr",
     "output_type": "stream",
     "text": [
      "huggingface/tokenizers: The current process just got forked, after parallelism has already been used. Disabling parallelism to avoid deadlocks...\n",
      "To disable this warning, you can either:\n",
      "\t- Avoid using `tokenizers` before the fork if possible\n",
      "\t- Explicitly set the environment variable TOKENIZERS_PARALLELISM=(true | false)\n",
      "Using the `WANDB_DISABLED` environment variable is deprecated and will be removed in v5. Use the --report_to flag to control the integrations used for logging result (for instance --report_to none).\n"
     ]
    },
    {
     "data": {
      "application/vnd.jupyter.widget-view+json": {
       "model_id": "1394b07a8900469daad470e74e4a61dd",
       "version_major": 2,
       "version_minor": 0
      },
      "text/plain": [
       "Map:   0%|          | 0/251 [00:00<?, ? examples/s]"
      ]
     },
     "metadata": {},
     "output_type": "display_data"
    },
    {
     "name": "stderr",
     "output_type": "stream",
     "text": [
      "/home/t-ppurkayast/.cache/huggingface/modules/evaluate_modules/metrics/evaluate-metric--frugalscore/3e67da829730648355c5bb58bc8b93a6c3a9be29cf03f72f71a8fc1bdf7614a6/frugalscore.py:115: FutureWarning: `tokenizer` is deprecated and will be removed in version 5.0.0 for `Trainer.__init__`. Use `processing_class` instead.\n",
      "  trainer = Trainer(self.model, training_args, tokenizer=self.tokenizer)\n"
     ]
    },
    {
     "data": {
      "text/html": [],
      "text/plain": [
       "<IPython.core.display.HTML object>"
      ]
     },
     "metadata": {},
     "output_type": "display_data"
    },
    {
     "name": "stderr",
     "output_type": "stream",
     "text": [
      "huggingface/tokenizers: The current process just got forked, after parallelism has already been used. Disabling parallelism to avoid deadlocks...\n",
      "To disable this warning, you can either:\n",
      "\t- Avoid using `tokenizers` before the fork if possible\n",
      "\t- Explicitly set the environment variable TOKENIZERS_PARALLELISM=(true | false)\n",
      "Using the `WANDB_DISABLED` environment variable is deprecated and will be removed in v5. Use the --report_to flag to control the integrations used for logging result (for instance --report_to none).\n"
     ]
    },
    {
     "data": {
      "application/vnd.jupyter.widget-view+json": {
       "model_id": "02cb3fd7dc4a4e8793c44ecd85314fb2",
       "version_major": 2,
       "version_minor": 0
      },
      "text/plain": [
       "Map:   0%|          | 0/251 [00:00<?, ? examples/s]"
      ]
     },
     "metadata": {},
     "output_type": "display_data"
    },
    {
     "name": "stderr",
     "output_type": "stream",
     "text": [
      "/home/t-ppurkayast/.cache/huggingface/modules/evaluate_modules/metrics/evaluate-metric--frugalscore/3e67da829730648355c5bb58bc8b93a6c3a9be29cf03f72f71a8fc1bdf7614a6/frugalscore.py:115: FutureWarning: `tokenizer` is deprecated and will be removed in version 5.0.0 for `Trainer.__init__`. Use `processing_class` instead.\n",
      "  trainer = Trainer(self.model, training_args, tokenizer=self.tokenizer)\n"
     ]
    },
    {
     "data": {
      "text/html": [],
      "text/plain": [
       "<IPython.core.display.HTML object>"
      ]
     },
     "metadata": {},
     "output_type": "display_data"
    },
    {
     "name": "stderr",
     "output_type": "stream",
     "text": [
      "huggingface/tokenizers: The current process just got forked, after parallelism has already been used. Disabling parallelism to avoid deadlocks...\n",
      "To disable this warning, you can either:\n",
      "\t- Avoid using `tokenizers` before the fork if possible\n",
      "\t- Explicitly set the environment variable TOKENIZERS_PARALLELISM=(true | false)\n",
      "Using the `WANDB_DISABLED` environment variable is deprecated and will be removed in v5. Use the --report_to flag to control the integrations used for logging result (for instance --report_to none).\n"
     ]
    },
    {
     "data": {
      "application/vnd.jupyter.widget-view+json": {
       "model_id": "f265a1880be44a4297f52923bb2fe4c2",
       "version_major": 2,
       "version_minor": 0
      },
      "text/plain": [
       "Map:   0%|          | 0/251 [00:00<?, ? examples/s]"
      ]
     },
     "metadata": {},
     "output_type": "display_data"
    },
    {
     "name": "stderr",
     "output_type": "stream",
     "text": [
      "/home/t-ppurkayast/.cache/huggingface/modules/evaluate_modules/metrics/evaluate-metric--frugalscore/3e67da829730648355c5bb58bc8b93a6c3a9be29cf03f72f71a8fc1bdf7614a6/frugalscore.py:115: FutureWarning: `tokenizer` is deprecated and will be removed in version 5.0.0 for `Trainer.__init__`. Use `processing_class` instead.\n",
      "  trainer = Trainer(self.model, training_args, tokenizer=self.tokenizer)\n"
     ]
    },
    {
     "data": {
      "text/html": [],
      "text/plain": [
       "<IPython.core.display.HTML object>"
      ]
     },
     "metadata": {},
     "output_type": "display_data"
    },
    {
     "name": "stderr",
     "output_type": "stream",
     "text": [
      "huggingface/tokenizers: The current process just got forked, after parallelism has already been used. Disabling parallelism to avoid deadlocks...\n",
      "To disable this warning, you can either:\n",
      "\t- Avoid using `tokenizers` before the fork if possible\n",
      "\t- Explicitly set the environment variable TOKENIZERS_PARALLELISM=(true | false)\n",
      "Using the `WANDB_DISABLED` environment variable is deprecated and will be removed in v5. Use the --report_to flag to control the integrations used for logging result (for instance --report_to none).\n"
     ]
    },
    {
     "data": {
      "application/vnd.jupyter.widget-view+json": {
       "model_id": "0c1d775cd63e4cbdb6f31888642f70d7",
       "version_major": 2,
       "version_minor": 0
      },
      "text/plain": [
       "Map:   0%|          | 0/251 [00:00<?, ? examples/s]"
      ]
     },
     "metadata": {},
     "output_type": "display_data"
    },
    {
     "name": "stderr",
     "output_type": "stream",
     "text": [
      "/home/t-ppurkayast/.cache/huggingface/modules/evaluate_modules/metrics/evaluate-metric--frugalscore/3e67da829730648355c5bb58bc8b93a6c3a9be29cf03f72f71a8fc1bdf7614a6/frugalscore.py:115: FutureWarning: `tokenizer` is deprecated and will be removed in version 5.0.0 for `Trainer.__init__`. Use `processing_class` instead.\n",
      "  trainer = Trainer(self.model, training_args, tokenizer=self.tokenizer)\n"
     ]
    },
    {
     "data": {
      "text/html": [],
      "text/plain": [
       "<IPython.core.display.HTML object>"
      ]
     },
     "metadata": {},
     "output_type": "display_data"
    },
    {
     "name": "stderr",
     "output_type": "stream",
     "text": [
      "huggingface/tokenizers: The current process just got forked, after parallelism has already been used. Disabling parallelism to avoid deadlocks...\n",
      "To disable this warning, you can either:\n",
      "\t- Avoid using `tokenizers` before the fork if possible\n",
      "\t- Explicitly set the environment variable TOKENIZERS_PARALLELISM=(true | false)\n",
      "Using the `WANDB_DISABLED` environment variable is deprecated and will be removed in v5. Use the --report_to flag to control the integrations used for logging result (for instance --report_to none).\n"
     ]
    },
    {
     "data": {
      "application/vnd.jupyter.widget-view+json": {
       "model_id": "e7f7e3be6a054635b49ce2fd34e96392",
       "version_major": 2,
       "version_minor": 0
      },
      "text/plain": [
       "Map:   0%|          | 0/251 [00:00<?, ? examples/s]"
      ]
     },
     "metadata": {},
     "output_type": "display_data"
    },
    {
     "name": "stderr",
     "output_type": "stream",
     "text": [
      "/home/t-ppurkayast/.cache/huggingface/modules/evaluate_modules/metrics/evaluate-metric--frugalscore/3e67da829730648355c5bb58bc8b93a6c3a9be29cf03f72f71a8fc1bdf7614a6/frugalscore.py:115: FutureWarning: `tokenizer` is deprecated and will be removed in version 5.0.0 for `Trainer.__init__`. Use `processing_class` instead.\n",
      "  trainer = Trainer(self.model, training_args, tokenizer=self.tokenizer)\n"
     ]
    },
    {
     "data": {
      "text/html": [],
      "text/plain": [
       "<IPython.core.display.HTML object>"
      ]
     },
     "metadata": {},
     "output_type": "display_data"
    },
    {
     "name": "stdout",
     "output_type": "stream",
     "text": [
      "\n",
      "Average ROUGE Scores:\n",
      "Phi-4 Base: 0.89140314\n",
      "Phi-4: 0.9162919\n",
      "Phi-4 (Model 6): 0.91069514\n",
      "----------------------\n",
      "Qwen2.5 (Base): 0.8861118\n",
      "Qwen2.5: 0.9048863\n",
      "Qwen2.5 (Model 6): 0.9098567\n"
     ]
    }
   ],
   "source": [
    "# Load the ROUGE metric from Hugging Face\n",
    "rouge = load(\"frugalscore\", \"moussaKam/frugalscore_medium_roberta_bert-score\")\n",
    "\n",
    "# Compute ROUGE scores\n",
    "results_p1 = rouge.compute(predictions=p1, references=references)\n",
    "results_p2 = rouge.compute(predictions=p2, references=references)\n",
    "results_p3 = rouge.compute(predictions=p3, references=references)\n",
    "\n",
    "results_q1 = rouge.compute(predictions=q1, references=references)\n",
    "results_q2 = rouge.compute(predictions=q2, references=references)\n",
    "results_q3 = rouge.compute(predictions=q3, references=references)\n",
    "\n",
    "# Compute and print average ROUGE scores\n",
    "average_rouge_p1 =sum(results_p1['scores']) / len(results_p1['scores'])\n",
    "average_rouge_p2 = sum(results_p2['scores']) / len(results_p2['scores'])\n",
    "average_rouge_p3 = sum(results_p3['scores']) / len(results_p3['scores'])\n",
    "\n",
    "average_rouge_q1 = sum(results_q1['scores']) / len(results_q1['scores'])\n",
    "average_rouge_q2 = sum(results_q2['scores']) / len(results_q2['scores'])\n",
    "average_rouge_q3 = sum(results_q3['scores']) / len(results_q3['scores'])\n",
    "\n",
    "\n",
    "# Print average ROUGE scores\n",
    "print(\"\\nAverage ROUGE Scores:\")\n",
    "print(\"Phi-4 Base:\", average_rouge_p1)\n",
    "print(\"Phi-4:\", average_rouge_p2)\n",
    "print(\"Phi-4 (Model 6):\", average_rouge_p3)\n",
    "print(\"----------------------\")\n",
    "print(\"Qwen2.5 (Base):\", average_rouge_q1)\n",
    "print(\"Qwen2.5:\", average_rouge_q2)\n",
    "print(\"Qwen2.5 (Model 6):\", average_rouge_q3)\n"
   ]
  },
  {
   "cell_type": "code",
   "execution_count": 24,
   "metadata": {},
   "outputs": [
    {
     "name": "stderr",
     "output_type": "stream",
     "text": [
      "huggingface/tokenizers: The current process just got forked, after parallelism has already been used. Disabling parallelism to avoid deadlocks...\n",
      "To disable this warning, you can either:\n",
      "\t- Avoid using `tokenizers` before the fork if possible\n",
      "\t- Explicitly set the environment variable TOKENIZERS_PARALLELISM=(true | false)\n",
      "Using the `WANDB_DISABLED` environment variable is deprecated and will be removed in v5. Use the --report_to flag to control the integrations used for logging result (for instance --report_to none).\n"
     ]
    },
    {
     "data": {
      "application/vnd.jupyter.widget-view+json": {
       "model_id": "02710a82c45d4962ae92b55552385e7b",
       "version_major": 2,
       "version_minor": 0
      },
      "text/plain": [
       "Map:   0%|          | 0/251 [00:00<?, ? examples/s]"
      ]
     },
     "metadata": {},
     "output_type": "display_data"
    },
    {
     "name": "stderr",
     "output_type": "stream",
     "text": [
      "/home/t-ppurkayast/.cache/huggingface/modules/evaluate_modules/metrics/evaluate-metric--frugalscore/3e67da829730648355c5bb58bc8b93a6c3a9be29cf03f72f71a8fc1bdf7614a6/frugalscore.py:115: FutureWarning: `tokenizer` is deprecated and will be removed in version 5.0.0 for `Trainer.__init__`. Use `processing_class` instead.\n",
      "  trainer = Trainer(self.model, training_args, tokenizer=self.tokenizer)\n"
     ]
    },
    {
     "data": {
      "text/html": [],
      "text/plain": [
       "<IPython.core.display.HTML object>"
      ]
     },
     "metadata": {},
     "output_type": "display_data"
    },
    {
     "name": "stderr",
     "output_type": "stream",
     "text": [
      "huggingface/tokenizers: The current process just got forked, after parallelism has already been used. Disabling parallelism to avoid deadlocks...\n",
      "To disable this warning, you can either:\n",
      "\t- Avoid using `tokenizers` before the fork if possible\n",
      "\t- Explicitly set the environment variable TOKENIZERS_PARALLELISM=(true | false)\n",
      "Using the `WANDB_DISABLED` environment variable is deprecated and will be removed in v5. Use the --report_to flag to control the integrations used for logging result (for instance --report_to none).\n"
     ]
    },
    {
     "data": {
      "application/vnd.jupyter.widget-view+json": {
       "model_id": "8371477a3e304cae8df5245e8500f611",
       "version_major": 2,
       "version_minor": 0
      },
      "text/plain": [
       "Map:   0%|          | 0/251 [00:00<?, ? examples/s]"
      ]
     },
     "metadata": {},
     "output_type": "display_data"
    },
    {
     "name": "stderr",
     "output_type": "stream",
     "text": [
      "/home/t-ppurkayast/.cache/huggingface/modules/evaluate_modules/metrics/evaluate-metric--frugalscore/3e67da829730648355c5bb58bc8b93a6c3a9be29cf03f72f71a8fc1bdf7614a6/frugalscore.py:115: FutureWarning: `tokenizer` is deprecated and will be removed in version 5.0.0 for `Trainer.__init__`. Use `processing_class` instead.\n",
      "  trainer = Trainer(self.model, training_args, tokenizer=self.tokenizer)\n"
     ]
    },
    {
     "data": {
      "text/html": [],
      "text/plain": [
       "<IPython.core.display.HTML object>"
      ]
     },
     "metadata": {},
     "output_type": "display_data"
    },
    {
     "name": "stderr",
     "output_type": "stream",
     "text": [
      "huggingface/tokenizers: The current process just got forked, after parallelism has already been used. Disabling parallelism to avoid deadlocks...\n",
      "To disable this warning, you can either:\n",
      "\t- Avoid using `tokenizers` before the fork if possible\n",
      "\t- Explicitly set the environment variable TOKENIZERS_PARALLELISM=(true | false)\n",
      "Using the `WANDB_DISABLED` environment variable is deprecated and will be removed in v5. Use the --report_to flag to control the integrations used for logging result (for instance --report_to none).\n"
     ]
    },
    {
     "data": {
      "application/vnd.jupyter.widget-view+json": {
       "model_id": "5c89b2314322483aabb5d054c988f0fb",
       "version_major": 2,
       "version_minor": 0
      },
      "text/plain": [
       "Map:   0%|          | 0/251 [00:00<?, ? examples/s]"
      ]
     },
     "metadata": {},
     "output_type": "display_data"
    },
    {
     "name": "stderr",
     "output_type": "stream",
     "text": [
      "/home/t-ppurkayast/.cache/huggingface/modules/evaluate_modules/metrics/evaluate-metric--frugalscore/3e67da829730648355c5bb58bc8b93a6c3a9be29cf03f72f71a8fc1bdf7614a6/frugalscore.py:115: FutureWarning: `tokenizer` is deprecated and will be removed in version 5.0.0 for `Trainer.__init__`. Use `processing_class` instead.\n",
      "  trainer = Trainer(self.model, training_args, tokenizer=self.tokenizer)\n"
     ]
    },
    {
     "data": {
      "text/html": [],
      "text/plain": [
       "<IPython.core.display.HTML object>"
      ]
     },
     "metadata": {},
     "output_type": "display_data"
    },
    {
     "name": "stderr",
     "output_type": "stream",
     "text": [
      "huggingface/tokenizers: The current process just got forked, after parallelism has already been used. Disabling parallelism to avoid deadlocks...\n",
      "To disable this warning, you can either:\n",
      "\t- Avoid using `tokenizers` before the fork if possible\n",
      "\t- Explicitly set the environment variable TOKENIZERS_PARALLELISM=(true | false)\n",
      "Using the `WANDB_DISABLED` environment variable is deprecated and will be removed in v5. Use the --report_to flag to control the integrations used for logging result (for instance --report_to none).\n"
     ]
    },
    {
     "data": {
      "application/vnd.jupyter.widget-view+json": {
       "model_id": "b1df41b000544d7ba142c2e3d1505858",
       "version_major": 2,
       "version_minor": 0
      },
      "text/plain": [
       "Map:   0%|          | 0/251 [00:00<?, ? examples/s]"
      ]
     },
     "metadata": {},
     "output_type": "display_data"
    },
    {
     "name": "stderr",
     "output_type": "stream",
     "text": [
      "/home/t-ppurkayast/.cache/huggingface/modules/evaluate_modules/metrics/evaluate-metric--frugalscore/3e67da829730648355c5bb58bc8b93a6c3a9be29cf03f72f71a8fc1bdf7614a6/frugalscore.py:115: FutureWarning: `tokenizer` is deprecated and will be removed in version 5.0.0 for `Trainer.__init__`. Use `processing_class` instead.\n",
      "  trainer = Trainer(self.model, training_args, tokenizer=self.tokenizer)\n"
     ]
    },
    {
     "data": {
      "text/html": [],
      "text/plain": [
       "<IPython.core.display.HTML object>"
      ]
     },
     "metadata": {},
     "output_type": "display_data"
    },
    {
     "name": "stderr",
     "output_type": "stream",
     "text": [
      "huggingface/tokenizers: The current process just got forked, after parallelism has already been used. Disabling parallelism to avoid deadlocks...\n",
      "To disable this warning, you can either:\n",
      "\t- Avoid using `tokenizers` before the fork if possible\n",
      "\t- Explicitly set the environment variable TOKENIZERS_PARALLELISM=(true | false)\n",
      "Using the `WANDB_DISABLED` environment variable is deprecated and will be removed in v5. Use the --report_to flag to control the integrations used for logging result (for instance --report_to none).\n"
     ]
    },
    {
     "data": {
      "application/vnd.jupyter.widget-view+json": {
       "model_id": "48d95382324847f5a537cdff9032ac8e",
       "version_major": 2,
       "version_minor": 0
      },
      "text/plain": [
       "Map:   0%|          | 0/251 [00:00<?, ? examples/s]"
      ]
     },
     "metadata": {},
     "output_type": "display_data"
    },
    {
     "name": "stderr",
     "output_type": "stream",
     "text": [
      "/home/t-ppurkayast/.cache/huggingface/modules/evaluate_modules/metrics/evaluate-metric--frugalscore/3e67da829730648355c5bb58bc8b93a6c3a9be29cf03f72f71a8fc1bdf7614a6/frugalscore.py:115: FutureWarning: `tokenizer` is deprecated and will be removed in version 5.0.0 for `Trainer.__init__`. Use `processing_class` instead.\n",
      "  trainer = Trainer(self.model, training_args, tokenizer=self.tokenizer)\n"
     ]
    },
    {
     "data": {
      "text/html": [],
      "text/plain": [
       "<IPython.core.display.HTML object>"
      ]
     },
     "metadata": {},
     "output_type": "display_data"
    },
    {
     "name": "stderr",
     "output_type": "stream",
     "text": [
      "huggingface/tokenizers: The current process just got forked, after parallelism has already been used. Disabling parallelism to avoid deadlocks...\n",
      "To disable this warning, you can either:\n",
      "\t- Avoid using `tokenizers` before the fork if possible\n",
      "\t- Explicitly set the environment variable TOKENIZERS_PARALLELISM=(true | false)\n",
      "Using the `WANDB_DISABLED` environment variable is deprecated and will be removed in v5. Use the --report_to flag to control the integrations used for logging result (for instance --report_to none).\n"
     ]
    },
    {
     "data": {
      "application/vnd.jupyter.widget-view+json": {
       "model_id": "e06939f00ae14cf1a3b4433890050164",
       "version_major": 2,
       "version_minor": 0
      },
      "text/plain": [
       "Map:   0%|          | 0/251 [00:00<?, ? examples/s]"
      ]
     },
     "metadata": {},
     "output_type": "display_data"
    },
    {
     "name": "stderr",
     "output_type": "stream",
     "text": [
      "/home/t-ppurkayast/.cache/huggingface/modules/evaluate_modules/metrics/evaluate-metric--frugalscore/3e67da829730648355c5bb58bc8b93a6c3a9be29cf03f72f71a8fc1bdf7614a6/frugalscore.py:115: FutureWarning: `tokenizer` is deprecated and will be removed in version 5.0.0 for `Trainer.__init__`. Use `processing_class` instead.\n",
      "  trainer = Trainer(self.model, training_args, tokenizer=self.tokenizer)\n"
     ]
    },
    {
     "data": {
      "text/html": [],
      "text/plain": [
       "<IPython.core.display.HTML object>"
      ]
     },
     "metadata": {},
     "output_type": "display_data"
    },
    {
     "name": "stdout",
     "output_type": "stream",
     "text": [
      "\n",
      "Average ROUGE Scores:\n",
      "Phi-4 Base: 0.7009287\n",
      "Phi-4: 0.7682454\n",
      "Phi-4 (Model 6): 0.7520815\n",
      "----------------------\n",
      "Qwen2.5 (Base): 0.6848699\n",
      "Qwen2.5: 0.73736304\n",
      "Qwen2.5 (Model 6): 0.75025487\n"
     ]
    }
   ],
   "source": [
    "# Load the ROUGE metric from Hugging Face\n",
    "rouge = load(\"frugalscore\", \"moussaKam/frugalscore_medium_deberta_bert-score\")\n",
    "\n",
    "# Compute ROUGE scores\n",
    "results_p1 = rouge.compute(predictions=p1, references=references)\n",
    "results_p2 = rouge.compute(predictions=p2, references=references)\n",
    "results_p3 = rouge.compute(predictions=p3, references=references)\n",
    "\n",
    "results_q1 = rouge.compute(predictions=q1, references=references)\n",
    "results_q2 = rouge.compute(predictions=q2, references=references)\n",
    "results_q3 = rouge.compute(predictions=q3, references=references)\n",
    "\n",
    "# Compute and print average ROUGE scores\n",
    "average_rouge_p1 =sum(results_p1['scores']) / len(results_p1['scores'])\n",
    "average_rouge_p2 = sum(results_p2['scores']) / len(results_p2['scores'])\n",
    "average_rouge_p3 = sum(results_p3['scores']) / len(results_p3['scores'])\n",
    "\n",
    "average_rouge_q1 = sum(results_q1['scores']) / len(results_q1['scores'])\n",
    "average_rouge_q2 = sum(results_q2['scores']) / len(results_q2['scores'])\n",
    "average_rouge_q3 = sum(results_q3['scores']) / len(results_q3['scores'])\n",
    "\n",
    "\n",
    "# Print average ROUGE scores\n",
    "print(\"\\nAverage ROUGE Scores:\")\n",
    "print(\"Phi-4 Base:\", average_rouge_p1)\n",
    "print(\"Phi-4:\", average_rouge_p2)\n",
    "print(\"Phi-4 (Model 6):\", average_rouge_p3)\n",
    "print(\"----------------------\")\n",
    "print(\"Qwen2.5 (Base):\", average_rouge_q1)\n",
    "print(\"Qwen2.5:\", average_rouge_q2)\n",
    "print(\"Qwen2.5 (Model 6):\", average_rouge_q3)"
   ]
  },
  {
   "cell_type": "code",
   "execution_count": 25,
   "metadata": {},
   "outputs": [
    {
     "name": "stderr",
     "output_type": "stream",
     "text": [
      "huggingface/tokenizers: The current process just got forked, after parallelism has already been used. Disabling parallelism to avoid deadlocks...\n",
      "To disable this warning, you can either:\n",
      "\t- Avoid using `tokenizers` before the fork if possible\n",
      "\t- Explicitly set the environment variable TOKENIZERS_PARALLELISM=(true | false)\n",
      "Using the `WANDB_DISABLED` environment variable is deprecated and will be removed in v5. Use the --report_to flag to control the integrations used for logging result (for instance --report_to none).\n"
     ]
    },
    {
     "data": {
      "application/vnd.jupyter.widget-view+json": {
       "model_id": "df68ba5a98ad450697890e9663939e41",
       "version_major": 2,
       "version_minor": 0
      },
      "text/plain": [
       "Map:   0%|          | 0/251 [00:00<?, ? examples/s]"
      ]
     },
     "metadata": {},
     "output_type": "display_data"
    },
    {
     "name": "stderr",
     "output_type": "stream",
     "text": [
      "/home/t-ppurkayast/.cache/huggingface/modules/evaluate_modules/metrics/evaluate-metric--frugalscore/3e67da829730648355c5bb58bc8b93a6c3a9be29cf03f72f71a8fc1bdf7614a6/frugalscore.py:115: FutureWarning: `tokenizer` is deprecated and will be removed in version 5.0.0 for `Trainer.__init__`. Use `processing_class` instead.\n",
      "  trainer = Trainer(self.model, training_args, tokenizer=self.tokenizer)\n"
     ]
    },
    {
     "data": {
      "text/html": [],
      "text/plain": [
       "<IPython.core.display.HTML object>"
      ]
     },
     "metadata": {},
     "output_type": "display_data"
    },
    {
     "name": "stderr",
     "output_type": "stream",
     "text": [
      "huggingface/tokenizers: The current process just got forked, after parallelism has already been used. Disabling parallelism to avoid deadlocks...\n",
      "To disable this warning, you can either:\n",
      "\t- Avoid using `tokenizers` before the fork if possible\n",
      "\t- Explicitly set the environment variable TOKENIZERS_PARALLELISM=(true | false)\n",
      "Using the `WANDB_DISABLED` environment variable is deprecated and will be removed in v5. Use the --report_to flag to control the integrations used for logging result (for instance --report_to none).\n"
     ]
    },
    {
     "data": {
      "application/vnd.jupyter.widget-view+json": {
       "model_id": "ef99c588bd904f0e9fe9ecfbf3a0cbaf",
       "version_major": 2,
       "version_minor": 0
      },
      "text/plain": [
       "Map:   0%|          | 0/251 [00:00<?, ? examples/s]"
      ]
     },
     "metadata": {},
     "output_type": "display_data"
    },
    {
     "name": "stderr",
     "output_type": "stream",
     "text": [
      "/home/t-ppurkayast/.cache/huggingface/modules/evaluate_modules/metrics/evaluate-metric--frugalscore/3e67da829730648355c5bb58bc8b93a6c3a9be29cf03f72f71a8fc1bdf7614a6/frugalscore.py:115: FutureWarning: `tokenizer` is deprecated and will be removed in version 5.0.0 for `Trainer.__init__`. Use `processing_class` instead.\n",
      "  trainer = Trainer(self.model, training_args, tokenizer=self.tokenizer)\n"
     ]
    },
    {
     "data": {
      "text/html": [],
      "text/plain": [
       "<IPython.core.display.HTML object>"
      ]
     },
     "metadata": {},
     "output_type": "display_data"
    },
    {
     "name": "stderr",
     "output_type": "stream",
     "text": [
      "huggingface/tokenizers: The current process just got forked, after parallelism has already been used. Disabling parallelism to avoid deadlocks...\n",
      "To disable this warning, you can either:\n",
      "\t- Avoid using `tokenizers` before the fork if possible\n",
      "\t- Explicitly set the environment variable TOKENIZERS_PARALLELISM=(true | false)\n",
      "Using the `WANDB_DISABLED` environment variable is deprecated and will be removed in v5. Use the --report_to flag to control the integrations used for logging result (for instance --report_to none).\n"
     ]
    },
    {
     "data": {
      "application/vnd.jupyter.widget-view+json": {
       "model_id": "e794757db8a74d66a89d11204badbabf",
       "version_major": 2,
       "version_minor": 0
      },
      "text/plain": [
       "Map:   0%|          | 0/251 [00:00<?, ? examples/s]"
      ]
     },
     "metadata": {},
     "output_type": "display_data"
    },
    {
     "name": "stderr",
     "output_type": "stream",
     "text": [
      "/home/t-ppurkayast/.cache/huggingface/modules/evaluate_modules/metrics/evaluate-metric--frugalscore/3e67da829730648355c5bb58bc8b93a6c3a9be29cf03f72f71a8fc1bdf7614a6/frugalscore.py:115: FutureWarning: `tokenizer` is deprecated and will be removed in version 5.0.0 for `Trainer.__init__`. Use `processing_class` instead.\n",
      "  trainer = Trainer(self.model, training_args, tokenizer=self.tokenizer)\n"
     ]
    },
    {
     "data": {
      "text/html": [],
      "text/plain": [
       "<IPython.core.display.HTML object>"
      ]
     },
     "metadata": {},
     "output_type": "display_data"
    },
    {
     "name": "stderr",
     "output_type": "stream",
     "text": [
      "huggingface/tokenizers: The current process just got forked, after parallelism has already been used. Disabling parallelism to avoid deadlocks...\n",
      "To disable this warning, you can either:\n",
      "\t- Avoid using `tokenizers` before the fork if possible\n",
      "\t- Explicitly set the environment variable TOKENIZERS_PARALLELISM=(true | false)\n",
      "Using the `WANDB_DISABLED` environment variable is deprecated and will be removed in v5. Use the --report_to flag to control the integrations used for logging result (for instance --report_to none).\n"
     ]
    },
    {
     "data": {
      "application/vnd.jupyter.widget-view+json": {
       "model_id": "5934aed9761c430bbdcfa09cb2296e58",
       "version_major": 2,
       "version_minor": 0
      },
      "text/plain": [
       "Map:   0%|          | 0/251 [00:00<?, ? examples/s]"
      ]
     },
     "metadata": {},
     "output_type": "display_data"
    },
    {
     "name": "stderr",
     "output_type": "stream",
     "text": [
      "/home/t-ppurkayast/.cache/huggingface/modules/evaluate_modules/metrics/evaluate-metric--frugalscore/3e67da829730648355c5bb58bc8b93a6c3a9be29cf03f72f71a8fc1bdf7614a6/frugalscore.py:115: FutureWarning: `tokenizer` is deprecated and will be removed in version 5.0.0 for `Trainer.__init__`. Use `processing_class` instead.\n",
      "  trainer = Trainer(self.model, training_args, tokenizer=self.tokenizer)\n"
     ]
    },
    {
     "data": {
      "text/html": [],
      "text/plain": [
       "<IPython.core.display.HTML object>"
      ]
     },
     "metadata": {},
     "output_type": "display_data"
    },
    {
     "name": "stderr",
     "output_type": "stream",
     "text": [
      "huggingface/tokenizers: The current process just got forked, after parallelism has already been used. Disabling parallelism to avoid deadlocks...\n",
      "To disable this warning, you can either:\n",
      "\t- Avoid using `tokenizers` before the fork if possible\n",
      "\t- Explicitly set the environment variable TOKENIZERS_PARALLELISM=(true | false)\n",
      "Using the `WANDB_DISABLED` environment variable is deprecated and will be removed in v5. Use the --report_to flag to control the integrations used for logging result (for instance --report_to none).\n"
     ]
    },
    {
     "data": {
      "application/vnd.jupyter.widget-view+json": {
       "model_id": "54c4e004e1854581ab3d7b89f9a1bcbb",
       "version_major": 2,
       "version_minor": 0
      },
      "text/plain": [
       "Map:   0%|          | 0/251 [00:00<?, ? examples/s]"
      ]
     },
     "metadata": {},
     "output_type": "display_data"
    },
    {
     "name": "stderr",
     "output_type": "stream",
     "text": [
      "/home/t-ppurkayast/.cache/huggingface/modules/evaluate_modules/metrics/evaluate-metric--frugalscore/3e67da829730648355c5bb58bc8b93a6c3a9be29cf03f72f71a8fc1bdf7614a6/frugalscore.py:115: FutureWarning: `tokenizer` is deprecated and will be removed in version 5.0.0 for `Trainer.__init__`. Use `processing_class` instead.\n",
      "  trainer = Trainer(self.model, training_args, tokenizer=self.tokenizer)\n"
     ]
    },
    {
     "data": {
      "text/html": [],
      "text/plain": [
       "<IPython.core.display.HTML object>"
      ]
     },
     "metadata": {},
     "output_type": "display_data"
    },
    {
     "name": "stderr",
     "output_type": "stream",
     "text": [
      "huggingface/tokenizers: The current process just got forked, after parallelism has already been used. Disabling parallelism to avoid deadlocks...\n",
      "To disable this warning, you can either:\n",
      "\t- Avoid using `tokenizers` before the fork if possible\n",
      "\t- Explicitly set the environment variable TOKENIZERS_PARALLELISM=(true | false)\n",
      "Using the `WANDB_DISABLED` environment variable is deprecated and will be removed in v5. Use the --report_to flag to control the integrations used for logging result (for instance --report_to none).\n"
     ]
    },
    {
     "data": {
      "application/vnd.jupyter.widget-view+json": {
       "model_id": "27c835a986e34de6a9b63f920f782f03",
       "version_major": 2,
       "version_minor": 0
      },
      "text/plain": [
       "Map:   0%|          | 0/251 [00:00<?, ? examples/s]"
      ]
     },
     "metadata": {},
     "output_type": "display_data"
    },
    {
     "name": "stderr",
     "output_type": "stream",
     "text": [
      "/home/t-ppurkayast/.cache/huggingface/modules/evaluate_modules/metrics/evaluate-metric--frugalscore/3e67da829730648355c5bb58bc8b93a6c3a9be29cf03f72f71a8fc1bdf7614a6/frugalscore.py:115: FutureWarning: `tokenizer` is deprecated and will be removed in version 5.0.0 for `Trainer.__init__`. Use `processing_class` instead.\n",
      "  trainer = Trainer(self.model, training_args, tokenizer=self.tokenizer)\n"
     ]
    },
    {
     "data": {
      "text/html": [],
      "text/plain": [
       "<IPython.core.display.HTML object>"
      ]
     },
     "metadata": {},
     "output_type": "display_data"
    },
    {
     "name": "stdout",
     "output_type": "stream",
     "text": [
      "\n",
      "Average ROUGE Scores:\n",
      "Phi-4 Base: 0.46287107\n",
      "Phi-4: 0.5726177\n",
      "Phi-4 (Model 6): 0.5323131\n",
      "----------------------\n",
      "Qwen2.5 (Base): 0.42420405\n",
      "Qwen2.5: 0.5109924\n",
      "Qwen2.5 (Model 6): 0.5365958\n"
     ]
    }
   ],
   "source": [
    "# Load the ROUGE metric from Hugging Face\n",
    "rouge = load(\"frugalscore\", \"moussaKam/frugalscore_tiny_bert-base_mover-score\")\n",
    "\n",
    "# Compute ROUGE scores\n",
    "results_p1 = rouge.compute(predictions=p1, references=references)\n",
    "results_p2 = rouge.compute(predictions=p2, references=references)\n",
    "results_p3 = rouge.compute(predictions=p3, references=references)\n",
    "\n",
    "results_q1 = rouge.compute(predictions=q1, references=references)\n",
    "results_q2 = rouge.compute(predictions=q2, references=references)\n",
    "results_q3 = rouge.compute(predictions=q3, references=references)\n",
    "\n",
    "# Compute and print average ROUGE scores\n",
    "average_rouge_p1 =sum(results_p1['scores']) / len(results_p1['scores'])\n",
    "average_rouge_p2 = sum(results_p2['scores']) / len(results_p2['scores'])\n",
    "average_rouge_p3 = sum(results_p3['scores']) / len(results_p3['scores'])\n",
    "\n",
    "average_rouge_q1 = sum(results_q1['scores']) / len(results_q1['scores'])\n",
    "average_rouge_q2 = sum(results_q2['scores']) / len(results_q2['scores'])\n",
    "average_rouge_q3 = sum(results_q3['scores']) / len(results_q3['scores'])\n",
    "\n",
    "\n",
    "# Print average ROUGE scores\n",
    "print(\"\\nAverage ROUGE Scores:\")\n",
    "print(\"Phi-4 Base:\", average_rouge_p1)\n",
    "print(\"Phi-4:\", average_rouge_p2)\n",
    "print(\"Phi-4 (Model 6):\", average_rouge_p3)\n",
    "print(\"----------------------\")\n",
    "print(\"Qwen2.5 (Base):\", average_rouge_q1)\n",
    "print(\"Qwen2.5:\", average_rouge_q2)\n",
    "print(\"Qwen2.5 (Model 6):\", average_rouge_q3)\n"
   ]
  },
  {
   "cell_type": "code",
   "execution_count": 26,
   "metadata": {},
   "outputs": [
    {
     "name": "stderr",
     "output_type": "stream",
     "text": [
      "huggingface/tokenizers: The current process just got forked, after parallelism has already been used. Disabling parallelism to avoid deadlocks...\n",
      "To disable this warning, you can either:\n",
      "\t- Avoid using `tokenizers` before the fork if possible\n",
      "\t- Explicitly set the environment variable TOKENIZERS_PARALLELISM=(true | false)\n",
      "Using the `WANDB_DISABLED` environment variable is deprecated and will be removed in v5. Use the --report_to flag to control the integrations used for logging result (for instance --report_to none).\n"
     ]
    },
    {
     "data": {
      "application/vnd.jupyter.widget-view+json": {
       "model_id": "934a993104884c1da327cd8c4bb8fcc9",
       "version_major": 2,
       "version_minor": 0
      },
      "text/plain": [
       "Map:   0%|          | 0/251 [00:00<?, ? examples/s]"
      ]
     },
     "metadata": {},
     "output_type": "display_data"
    },
    {
     "name": "stderr",
     "output_type": "stream",
     "text": [
      "/home/t-ppurkayast/.cache/huggingface/modules/evaluate_modules/metrics/evaluate-metric--frugalscore/3e67da829730648355c5bb58bc8b93a6c3a9be29cf03f72f71a8fc1bdf7614a6/frugalscore.py:115: FutureWarning: `tokenizer` is deprecated and will be removed in version 5.0.0 for `Trainer.__init__`. Use `processing_class` instead.\n",
      "  trainer = Trainer(self.model, training_args, tokenizer=self.tokenizer)\n"
     ]
    },
    {
     "data": {
      "text/html": [],
      "text/plain": [
       "<IPython.core.display.HTML object>"
      ]
     },
     "metadata": {},
     "output_type": "display_data"
    },
    {
     "name": "stderr",
     "output_type": "stream",
     "text": [
      "huggingface/tokenizers: The current process just got forked, after parallelism has already been used. Disabling parallelism to avoid deadlocks...\n",
      "To disable this warning, you can either:\n",
      "\t- Avoid using `tokenizers` before the fork if possible\n",
      "\t- Explicitly set the environment variable TOKENIZERS_PARALLELISM=(true | false)\n",
      "Using the `WANDB_DISABLED` environment variable is deprecated and will be removed in v5. Use the --report_to flag to control the integrations used for logging result (for instance --report_to none).\n"
     ]
    },
    {
     "data": {
      "application/vnd.jupyter.widget-view+json": {
       "model_id": "f59e6f67e61f4cd8a74f8b265471a3e5",
       "version_major": 2,
       "version_minor": 0
      },
      "text/plain": [
       "Map:   0%|          | 0/251 [00:00<?, ? examples/s]"
      ]
     },
     "metadata": {},
     "output_type": "display_data"
    },
    {
     "name": "stderr",
     "output_type": "stream",
     "text": [
      "/home/t-ppurkayast/.cache/huggingface/modules/evaluate_modules/metrics/evaluate-metric--frugalscore/3e67da829730648355c5bb58bc8b93a6c3a9be29cf03f72f71a8fc1bdf7614a6/frugalscore.py:115: FutureWarning: `tokenizer` is deprecated and will be removed in version 5.0.0 for `Trainer.__init__`. Use `processing_class` instead.\n",
      "  trainer = Trainer(self.model, training_args, tokenizer=self.tokenizer)\n"
     ]
    },
    {
     "data": {
      "text/html": [],
      "text/plain": [
       "<IPython.core.display.HTML object>"
      ]
     },
     "metadata": {},
     "output_type": "display_data"
    },
    {
     "name": "stderr",
     "output_type": "stream",
     "text": [
      "huggingface/tokenizers: The current process just got forked, after parallelism has already been used. Disabling parallelism to avoid deadlocks...\n",
      "To disable this warning, you can either:\n",
      "\t- Avoid using `tokenizers` before the fork if possible\n",
      "\t- Explicitly set the environment variable TOKENIZERS_PARALLELISM=(true | false)\n",
      "Using the `WANDB_DISABLED` environment variable is deprecated and will be removed in v5. Use the --report_to flag to control the integrations used for logging result (for instance --report_to none).\n"
     ]
    },
    {
     "data": {
      "application/vnd.jupyter.widget-view+json": {
       "model_id": "1a68999e87d4483aa31a5b4772b38fcf",
       "version_major": 2,
       "version_minor": 0
      },
      "text/plain": [
       "Map:   0%|          | 0/251 [00:00<?, ? examples/s]"
      ]
     },
     "metadata": {},
     "output_type": "display_data"
    },
    {
     "name": "stderr",
     "output_type": "stream",
     "text": [
      "/home/t-ppurkayast/.cache/huggingface/modules/evaluate_modules/metrics/evaluate-metric--frugalscore/3e67da829730648355c5bb58bc8b93a6c3a9be29cf03f72f71a8fc1bdf7614a6/frugalscore.py:115: FutureWarning: `tokenizer` is deprecated and will be removed in version 5.0.0 for `Trainer.__init__`. Use `processing_class` instead.\n",
      "  trainer = Trainer(self.model, training_args, tokenizer=self.tokenizer)\n"
     ]
    },
    {
     "data": {
      "text/html": [],
      "text/plain": [
       "<IPython.core.display.HTML object>"
      ]
     },
     "metadata": {},
     "output_type": "display_data"
    },
    {
     "name": "stderr",
     "output_type": "stream",
     "text": [
      "huggingface/tokenizers: The current process just got forked, after parallelism has already been used. Disabling parallelism to avoid deadlocks...\n",
      "To disable this warning, you can either:\n",
      "\t- Avoid using `tokenizers` before the fork if possible\n",
      "\t- Explicitly set the environment variable TOKENIZERS_PARALLELISM=(true | false)\n",
      "Using the `WANDB_DISABLED` environment variable is deprecated and will be removed in v5. Use the --report_to flag to control the integrations used for logging result (for instance --report_to none).\n"
     ]
    },
    {
     "data": {
      "application/vnd.jupyter.widget-view+json": {
       "model_id": "4d89ae1912014c27a5c8c41ef94c4141",
       "version_major": 2,
       "version_minor": 0
      },
      "text/plain": [
       "Map:   0%|          | 0/251 [00:00<?, ? examples/s]"
      ]
     },
     "metadata": {},
     "output_type": "display_data"
    },
    {
     "name": "stderr",
     "output_type": "stream",
     "text": [
      "/home/t-ppurkayast/.cache/huggingface/modules/evaluate_modules/metrics/evaluate-metric--frugalscore/3e67da829730648355c5bb58bc8b93a6c3a9be29cf03f72f71a8fc1bdf7614a6/frugalscore.py:115: FutureWarning: `tokenizer` is deprecated and will be removed in version 5.0.0 for `Trainer.__init__`. Use `processing_class` instead.\n",
      "  trainer = Trainer(self.model, training_args, tokenizer=self.tokenizer)\n"
     ]
    },
    {
     "data": {
      "text/html": [],
      "text/plain": [
       "<IPython.core.display.HTML object>"
      ]
     },
     "metadata": {},
     "output_type": "display_data"
    },
    {
     "name": "stderr",
     "output_type": "stream",
     "text": [
      "huggingface/tokenizers: The current process just got forked, after parallelism has already been used. Disabling parallelism to avoid deadlocks...\n",
      "To disable this warning, you can either:\n",
      "\t- Avoid using `tokenizers` before the fork if possible\n",
      "\t- Explicitly set the environment variable TOKENIZERS_PARALLELISM=(true | false)\n",
      "Using the `WANDB_DISABLED` environment variable is deprecated and will be removed in v5. Use the --report_to flag to control the integrations used for logging result (for instance --report_to none).\n"
     ]
    },
    {
     "data": {
      "application/vnd.jupyter.widget-view+json": {
       "model_id": "a1961fdd0e0b4fda8ec1b4bdbaa78b89",
       "version_major": 2,
       "version_minor": 0
      },
      "text/plain": [
       "Map:   0%|          | 0/251 [00:00<?, ? examples/s]"
      ]
     },
     "metadata": {},
     "output_type": "display_data"
    },
    {
     "name": "stderr",
     "output_type": "stream",
     "text": [
      "/home/t-ppurkayast/.cache/huggingface/modules/evaluate_modules/metrics/evaluate-metric--frugalscore/3e67da829730648355c5bb58bc8b93a6c3a9be29cf03f72f71a8fc1bdf7614a6/frugalscore.py:115: FutureWarning: `tokenizer` is deprecated and will be removed in version 5.0.0 for `Trainer.__init__`. Use `processing_class` instead.\n",
      "  trainer = Trainer(self.model, training_args, tokenizer=self.tokenizer)\n"
     ]
    },
    {
     "data": {
      "text/html": [],
      "text/plain": [
       "<IPython.core.display.HTML object>"
      ]
     },
     "metadata": {},
     "output_type": "display_data"
    },
    {
     "name": "stderr",
     "output_type": "stream",
     "text": [
      "huggingface/tokenizers: The current process just got forked, after parallelism has already been used. Disabling parallelism to avoid deadlocks...\n",
      "To disable this warning, you can either:\n",
      "\t- Avoid using `tokenizers` before the fork if possible\n",
      "\t- Explicitly set the environment variable TOKENIZERS_PARALLELISM=(true | false)\n",
      "Using the `WANDB_DISABLED` environment variable is deprecated and will be removed in v5. Use the --report_to flag to control the integrations used for logging result (for instance --report_to none).\n"
     ]
    },
    {
     "data": {
      "application/vnd.jupyter.widget-view+json": {
       "model_id": "49b30431052e467facac3c34e79a5784",
       "version_major": 2,
       "version_minor": 0
      },
      "text/plain": [
       "Map:   0%|          | 0/251 [00:00<?, ? examples/s]"
      ]
     },
     "metadata": {},
     "output_type": "display_data"
    },
    {
     "name": "stderr",
     "output_type": "stream",
     "text": [
      "/home/t-ppurkayast/.cache/huggingface/modules/evaluate_modules/metrics/evaluate-metric--frugalscore/3e67da829730648355c5bb58bc8b93a6c3a9be29cf03f72f71a8fc1bdf7614a6/frugalscore.py:115: FutureWarning: `tokenizer` is deprecated and will be removed in version 5.0.0 for `Trainer.__init__`. Use `processing_class` instead.\n",
      "  trainer = Trainer(self.model, training_args, tokenizer=self.tokenizer)\n"
     ]
    },
    {
     "data": {
      "text/html": [],
      "text/plain": [
       "<IPython.core.display.HTML object>"
      ]
     },
     "metadata": {},
     "output_type": "display_data"
    },
    {
     "name": "stdout",
     "output_type": "stream",
     "text": [
      "\n",
      "Average ROUGE Scores:\n",
      "Phi-4 Base: 0.39764333\n",
      "Phi-4: 0.5027784\n",
      "Phi-4 (Model 6): 0.4755018\n",
      "----------------------\n",
      "Qwen2.5 (Base): 0.38852793\n",
      "Qwen2.5: 0.43848628\n",
      "Qwen2.5 (Model 6): 0.47320873\n"
     ]
    }
   ],
   "source": [
    "# Load the ROUGE metric from Hugging Face\n",
    "rouge = load(\"frugalscore\", \"moussaKam/frugalscore_small_bert-base_mover-score\")\n",
    "\n",
    "# Compute ROUGE scores\n",
    "results_p1 = rouge.compute(predictions=p1, references=references)\n",
    "results_p2 = rouge.compute(predictions=p2, references=references)\n",
    "results_p3 = rouge.compute(predictions=p3, references=references)\n",
    "\n",
    "results_q1 = rouge.compute(predictions=q1, references=references)\n",
    "results_q2 = rouge.compute(predictions=q2, references=references)\n",
    "results_q3 = rouge.compute(predictions=q3, references=references)\n",
    "\n",
    "# Compute and print average ROUGE scores\n",
    "average_rouge_p1 =sum(results_p1['scores']) / len(results_p1['scores'])\n",
    "average_rouge_p2 = sum(results_p2['scores']) / len(results_p2['scores'])\n",
    "average_rouge_p3 = sum(results_p3['scores']) / len(results_p3['scores'])\n",
    "\n",
    "average_rouge_q1 = sum(results_q1['scores']) / len(results_q1['scores'])\n",
    "average_rouge_q2 = sum(results_q2['scores']) / len(results_q2['scores'])\n",
    "average_rouge_q3 = sum(results_q3['scores']) / len(results_q3['scores'])\n",
    "\n",
    "\n",
    "# Print average ROUGE scores\n",
    "print(\"\\nAverage ROUGE Scores:\")\n",
    "print(\"Phi-4 Base:\", average_rouge_p1)\n",
    "print(\"Phi-4:\", average_rouge_p2)\n",
    "print(\"Phi-4 (Model 6):\", average_rouge_p3)\n",
    "print(\"----------------------\")\n",
    "print(\"Qwen2.5 (Base):\", average_rouge_q1)\n",
    "print(\"Qwen2.5:\", average_rouge_q2)\n",
    "print(\"Qwen2.5 (Model 6):\", average_rouge_q3)\n",
    "\n"
   ]
  },
  {
   "cell_type": "code",
   "execution_count": 27,
   "metadata": {},
   "outputs": [
    {
     "name": "stderr",
     "output_type": "stream",
     "text": [
      "huggingface/tokenizers: The current process just got forked, after parallelism has already been used. Disabling parallelism to avoid deadlocks...\n",
      "To disable this warning, you can either:\n",
      "\t- Avoid using `tokenizers` before the fork if possible\n",
      "\t- Explicitly set the environment variable TOKENIZERS_PARALLELISM=(true | false)\n",
      "Using the `WANDB_DISABLED` environment variable is deprecated and will be removed in v5. Use the --report_to flag to control the integrations used for logging result (for instance --report_to none).\n"
     ]
    },
    {
     "data": {
      "application/vnd.jupyter.widget-view+json": {
       "model_id": "134da4cb07244b83adc21b7d7e557a76",
       "version_major": 2,
       "version_minor": 0
      },
      "text/plain": [
       "Map:   0%|          | 0/251 [00:00<?, ? examples/s]"
      ]
     },
     "metadata": {},
     "output_type": "display_data"
    },
    {
     "name": "stderr",
     "output_type": "stream",
     "text": [
      "/home/t-ppurkayast/.cache/huggingface/modules/evaluate_modules/metrics/evaluate-metric--frugalscore/3e67da829730648355c5bb58bc8b93a6c3a9be29cf03f72f71a8fc1bdf7614a6/frugalscore.py:115: FutureWarning: `tokenizer` is deprecated and will be removed in version 5.0.0 for `Trainer.__init__`. Use `processing_class` instead.\n",
      "  trainer = Trainer(self.model, training_args, tokenizer=self.tokenizer)\n"
     ]
    },
    {
     "data": {
      "text/html": [],
      "text/plain": [
       "<IPython.core.display.HTML object>"
      ]
     },
     "metadata": {},
     "output_type": "display_data"
    },
    {
     "name": "stderr",
     "output_type": "stream",
     "text": [
      "huggingface/tokenizers: The current process just got forked, after parallelism has already been used. Disabling parallelism to avoid deadlocks...\n",
      "To disable this warning, you can either:\n",
      "\t- Avoid using `tokenizers` before the fork if possible\n",
      "\t- Explicitly set the environment variable TOKENIZERS_PARALLELISM=(true | false)\n",
      "Using the `WANDB_DISABLED` environment variable is deprecated and will be removed in v5. Use the --report_to flag to control the integrations used for logging result (for instance --report_to none).\n"
     ]
    },
    {
     "data": {
      "application/vnd.jupyter.widget-view+json": {
       "model_id": "be78de37073b45a880275e42df7d436f",
       "version_major": 2,
       "version_minor": 0
      },
      "text/plain": [
       "Map:   0%|          | 0/251 [00:00<?, ? examples/s]"
      ]
     },
     "metadata": {},
     "output_type": "display_data"
    },
    {
     "name": "stderr",
     "output_type": "stream",
     "text": [
      "/home/t-ppurkayast/.cache/huggingface/modules/evaluate_modules/metrics/evaluate-metric--frugalscore/3e67da829730648355c5bb58bc8b93a6c3a9be29cf03f72f71a8fc1bdf7614a6/frugalscore.py:115: FutureWarning: `tokenizer` is deprecated and will be removed in version 5.0.0 for `Trainer.__init__`. Use `processing_class` instead.\n",
      "  trainer = Trainer(self.model, training_args, tokenizer=self.tokenizer)\n"
     ]
    },
    {
     "data": {
      "text/html": [],
      "text/plain": [
       "<IPython.core.display.HTML object>"
      ]
     },
     "metadata": {},
     "output_type": "display_data"
    },
    {
     "name": "stderr",
     "output_type": "stream",
     "text": [
      "huggingface/tokenizers: The current process just got forked, after parallelism has already been used. Disabling parallelism to avoid deadlocks...\n",
      "To disable this warning, you can either:\n",
      "\t- Avoid using `tokenizers` before the fork if possible\n",
      "\t- Explicitly set the environment variable TOKENIZERS_PARALLELISM=(true | false)\n",
      "Using the `WANDB_DISABLED` environment variable is deprecated and will be removed in v5. Use the --report_to flag to control the integrations used for logging result (for instance --report_to none).\n"
     ]
    },
    {
     "data": {
      "application/vnd.jupyter.widget-view+json": {
       "model_id": "dbbe2ced57e444e584a9c98525c05894",
       "version_major": 2,
       "version_minor": 0
      },
      "text/plain": [
       "Map:   0%|          | 0/251 [00:00<?, ? examples/s]"
      ]
     },
     "metadata": {},
     "output_type": "display_data"
    },
    {
     "name": "stderr",
     "output_type": "stream",
     "text": [
      "/home/t-ppurkayast/.cache/huggingface/modules/evaluate_modules/metrics/evaluate-metric--frugalscore/3e67da829730648355c5bb58bc8b93a6c3a9be29cf03f72f71a8fc1bdf7614a6/frugalscore.py:115: FutureWarning: `tokenizer` is deprecated and will be removed in version 5.0.0 for `Trainer.__init__`. Use `processing_class` instead.\n",
      "  trainer = Trainer(self.model, training_args, tokenizer=self.tokenizer)\n"
     ]
    },
    {
     "data": {
      "text/html": [],
      "text/plain": [
       "<IPython.core.display.HTML object>"
      ]
     },
     "metadata": {},
     "output_type": "display_data"
    },
    {
     "name": "stderr",
     "output_type": "stream",
     "text": [
      "huggingface/tokenizers: The current process just got forked, after parallelism has already been used. Disabling parallelism to avoid deadlocks...\n",
      "To disable this warning, you can either:\n",
      "\t- Avoid using `tokenizers` before the fork if possible\n",
      "\t- Explicitly set the environment variable TOKENIZERS_PARALLELISM=(true | false)\n",
      "Using the `WANDB_DISABLED` environment variable is deprecated and will be removed in v5. Use the --report_to flag to control the integrations used for logging result (for instance --report_to none).\n"
     ]
    },
    {
     "data": {
      "application/vnd.jupyter.widget-view+json": {
       "model_id": "e1782a2400514e9eb845b9afea2c19df",
       "version_major": 2,
       "version_minor": 0
      },
      "text/plain": [
       "Map:   0%|          | 0/251 [00:00<?, ? examples/s]"
      ]
     },
     "metadata": {},
     "output_type": "display_data"
    },
    {
     "name": "stderr",
     "output_type": "stream",
     "text": [
      "/home/t-ppurkayast/.cache/huggingface/modules/evaluate_modules/metrics/evaluate-metric--frugalscore/3e67da829730648355c5bb58bc8b93a6c3a9be29cf03f72f71a8fc1bdf7614a6/frugalscore.py:115: FutureWarning: `tokenizer` is deprecated and will be removed in version 5.0.0 for `Trainer.__init__`. Use `processing_class` instead.\n",
      "  trainer = Trainer(self.model, training_args, tokenizer=self.tokenizer)\n"
     ]
    },
    {
     "data": {
      "text/html": [],
      "text/plain": [
       "<IPython.core.display.HTML object>"
      ]
     },
     "metadata": {},
     "output_type": "display_data"
    },
    {
     "name": "stderr",
     "output_type": "stream",
     "text": [
      "huggingface/tokenizers: The current process just got forked, after parallelism has already been used. Disabling parallelism to avoid deadlocks...\n",
      "To disable this warning, you can either:\n",
      "\t- Avoid using `tokenizers` before the fork if possible\n",
      "\t- Explicitly set the environment variable TOKENIZERS_PARALLELISM=(true | false)\n",
      "Using the `WANDB_DISABLED` environment variable is deprecated and will be removed in v5. Use the --report_to flag to control the integrations used for logging result (for instance --report_to none).\n"
     ]
    },
    {
     "data": {
      "application/vnd.jupyter.widget-view+json": {
       "model_id": "988843c409494f11be81782436033462",
       "version_major": 2,
       "version_minor": 0
      },
      "text/plain": [
       "Map:   0%|          | 0/251 [00:00<?, ? examples/s]"
      ]
     },
     "metadata": {},
     "output_type": "display_data"
    },
    {
     "name": "stderr",
     "output_type": "stream",
     "text": [
      "/home/t-ppurkayast/.cache/huggingface/modules/evaluate_modules/metrics/evaluate-metric--frugalscore/3e67da829730648355c5bb58bc8b93a6c3a9be29cf03f72f71a8fc1bdf7614a6/frugalscore.py:115: FutureWarning: `tokenizer` is deprecated and will be removed in version 5.0.0 for `Trainer.__init__`. Use `processing_class` instead.\n",
      "  trainer = Trainer(self.model, training_args, tokenizer=self.tokenizer)\n"
     ]
    },
    {
     "data": {
      "text/html": [],
      "text/plain": [
       "<IPython.core.display.HTML object>"
      ]
     },
     "metadata": {},
     "output_type": "display_data"
    },
    {
     "name": "stderr",
     "output_type": "stream",
     "text": [
      "huggingface/tokenizers: The current process just got forked, after parallelism has already been used. Disabling parallelism to avoid deadlocks...\n",
      "To disable this warning, you can either:\n",
      "\t- Avoid using `tokenizers` before the fork if possible\n",
      "\t- Explicitly set the environment variable TOKENIZERS_PARALLELISM=(true | false)\n",
      "Using the `WANDB_DISABLED` environment variable is deprecated and will be removed in v5. Use the --report_to flag to control the integrations used for logging result (for instance --report_to none).\n"
     ]
    },
    {
     "data": {
      "application/vnd.jupyter.widget-view+json": {
       "model_id": "f472e01090fd458da8cf2cc69442880e",
       "version_major": 2,
       "version_minor": 0
      },
      "text/plain": [
       "Map:   0%|          | 0/251 [00:00<?, ? examples/s]"
      ]
     },
     "metadata": {},
     "output_type": "display_data"
    },
    {
     "name": "stderr",
     "output_type": "stream",
     "text": [
      "/home/t-ppurkayast/.cache/huggingface/modules/evaluate_modules/metrics/evaluate-metric--frugalscore/3e67da829730648355c5bb58bc8b93a6c3a9be29cf03f72f71a8fc1bdf7614a6/frugalscore.py:115: FutureWarning: `tokenizer` is deprecated and will be removed in version 5.0.0 for `Trainer.__init__`. Use `processing_class` instead.\n",
      "  trainer = Trainer(self.model, training_args, tokenizer=self.tokenizer)\n"
     ]
    },
    {
     "data": {
      "text/html": [],
      "text/plain": [
       "<IPython.core.display.HTML object>"
      ]
     },
     "metadata": {},
     "output_type": "display_data"
    },
    {
     "name": "stdout",
     "output_type": "stream",
     "text": [
      "\n",
      "Average ROUGE Scores:\n",
      "Phi-4 Base: 0.34726647\n",
      "Phi-4: 0.4573576\n",
      "Phi-4 (Model 6): 0.41392097\n",
      "----------------------\n",
      "Qwen2.5 (Base): 0.3312569\n",
      "Qwen2.5: 0.39002413\n",
      "Qwen2.5 (Model 6): 0.41897935\n"
     ]
    }
   ],
   "source": [
    "# Load the ROUGE metric from Hugging Face\n",
    "rouge = load(\"frugalscore\", \"moussaKam/frugalscore_medium_bert-base_mover-score\")\n",
    "\n",
    "# Compute ROUGE scores\n",
    "results_p1 = rouge.compute(predictions=p1, references=references)\n",
    "results_p2 = rouge.compute(predictions=p2, references=references)\n",
    "results_p3 = rouge.compute(predictions=p3, references=references)\n",
    "\n",
    "results_q1 = rouge.compute(predictions=q1, references=references)\n",
    "results_q2 = rouge.compute(predictions=q2, references=references)\n",
    "results_q3 = rouge.compute(predictions=q3, references=references)\n",
    "\n",
    "# Compute and print average ROUGE scores\n",
    "average_rouge_p1 =sum(results_p1['scores']) / len(results_p1['scores'])\n",
    "average_rouge_p2 = sum(results_p2['scores']) / len(results_p2['scores'])\n",
    "average_rouge_p3 = sum(results_p3['scores']) / len(results_p3['scores'])\n",
    "\n",
    "average_rouge_q1 = sum(results_q1['scores']) / len(results_q1['scores'])\n",
    "average_rouge_q2 = sum(results_q2['scores']) / len(results_q2['scores'])\n",
    "average_rouge_q3 = sum(results_q3['scores']) / len(results_q3['scores'])\n",
    "\n",
    "\n",
    "# Print average ROUGE scores\n",
    "print(\"\\nAverage ROUGE Scores:\")\n",
    "print(\"Phi-4 Base:\", average_rouge_p1)\n",
    "print(\"Phi-4:\", average_rouge_p2)\n",
    "print(\"Phi-4 (Model 6):\", average_rouge_p3)\n",
    "print(\"----------------------\")\n",
    "print(\"Qwen2.5 (Base):\", average_rouge_q1)\n",
    "print(\"Qwen2.5:\", average_rouge_q2)\n",
    "print(\"Qwen2.5 (Model 6):\", average_rouge_q3)\n",
    "\n"
   ]
  },
  {
   "cell_type": "code",
   "execution_count": null,
   "metadata": {},
   "outputs": [],
   "source": []
  }
 ],
 "metadata": {
  "kernelspec": {
   "display_name": "psp",
   "language": "python",
   "name": "python3"
  },
  "language_info": {
   "codemirror_mode": {
    "name": "ipython",
    "version": 3
   },
   "file_extension": ".py",
   "mimetype": "text/x-python",
   "name": "python",
   "nbconvert_exporter": "python",
   "pygments_lexer": "ipython3",
   "version": "3.9.21"
  }
 },
 "nbformat": 4,
 "nbformat_minor": 2
}
